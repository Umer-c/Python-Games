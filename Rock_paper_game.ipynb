{
 "cells": [
  {
   "cell_type": "code",
   "execution_count": 12,
   "metadata": {},
   "outputs": [
    {
     "name": "stdout",
     "output_type": "stream",
     "text": [
      "Please make your choice: rock\n",
      "User's choice is: rock\n",
      "Computer's choice is: scissors\n",
      "You win!!\n",
      "\n",
      "Your score is:  1\n",
      "Computer score is:  0\n",
      "Draw games:  0\n",
      "\n",
      "Continue Yes(Y) or No(N) = y\n",
      "Please make your choice: rock\n",
      "User's choice is: rock\n",
      "Computer's choice is: rock\n",
      "It's a tie\n",
      "\n",
      "Your score is:  1\n",
      "Computer score is:  0\n",
      "Draw games:  1\n",
      "\n",
      "Continue Yes(Y) or No(N) = n\n"
     ]
    }
   ],
   "source": [
    "import random\n",
    "user_score = 0\n",
    "computer_score = 0\n",
    "draw = 0\n",
    "game = True\n",
    "while game:\n",
    "    choice = input(\"Please make your choice: \")\n",
    "    choice = choice.lower()\n",
    "    print(\"User's choice is:\", choice)\n",
    "\n",
    "    choices = [\"rock\", \"paper\", \"scissors\" ]\n",
    "    computer_choice = random.choice(choices)\n",
    "    print(\"Computer's choice is:\", computer_choice)\n",
    "\n",
    "    choice_dict = {\"rock\" : 0, \"paper\" : 1, \"scissors\" : 2}\n",
    "\n",
    "    choice_index = choice_dict.get(choice, 3)\n",
    "    computer_index = choice_dict.get(computer_choice, 3)\n",
    "\n",
    "    result_matrix = [[0,2,1], [1,0,2], [2,1,0], [3,3,3]]\n",
    "\n",
    "    result_index = result_matrix[choice_index][computer_index]\n",
    "    result_message = [\"It's a tie\", \"You win!!\", \"Sorry, you lose\", \"Invalid entry\"]\n",
    "    result = result_message[result_index]\n",
    "    print(result)\n",
    "    print()\n",
    "\n",
    "    if result_index == 1:\n",
    "        user_score += 1\n",
    "    print(\"Your score is: \",user_score)\n",
    "    if result_index == 2:\n",
    "        computer_score += 1\n",
    "    print(\"Computer score is: \",computer_score)\n",
    "    if result_index == 0:\n",
    "        draw += 1\n",
    "    print(\"Draw games: \",draw)\n",
    "    print()\n",
    "    decision = input(\"Continue Yes(Y) or No(N) = \").lower()\n",
    "    if decision == \"n\":\n",
    "        game = False\n",
    "    "
   ]
  },
  {
   "cell_type": "code",
   "execution_count": null,
   "metadata": {},
   "outputs": [],
   "source": []
  },
  {
   "cell_type": "code",
   "execution_count": null,
   "metadata": {},
   "outputs": [],
   "source": []
  }
 ],
 "metadata": {
  "kernelspec": {
   "display_name": "Python 3",
   "language": "python",
   "name": "python3"
  },
  "language_info": {
   "codemirror_mode": {
    "name": "ipython",
    "version": 3
   },
   "file_extension": ".py",
   "mimetype": "text/x-python",
   "name": "python",
   "nbconvert_exporter": "python",
   "pygments_lexer": "ipython3",
   "version": "3.8.3"
  }
 },
 "nbformat": 4,
 "nbformat_minor": 4
}
