{
 "cells": [
  {
   "cell_type": "code",
   "execution_count": 1,
   "metadata": {},
   "outputs": [],
   "source": [
    "import random\n",
    "num = random.randrange(1, 30)\n",
    "guess = int(input(\"Please guess the number between 1 & 30: \"))       \n",
    "\n",
    "while guess != num:\n",
    "    \n",
    "    if guess < num:\n",
    "        print(\"Please guess higher number\")\n",
    "        guess = int(input(\"Please guess the number between 1 & 30: \"))\n",
    "    else:\n",
    "        print(\"Please guess lower number\")\n",
    "        guess = int(input(\"Please guess the number between 1 & 30: \"))\n",
    "print(\"You gussed the number correctly\")\n"
   ]
  },
  {
   "cell_type": "code",
   "execution_count": null,
   "metadata": {},
   "outputs": [],
   "source": []
  },
  {
   "cell_type": "code",
   "execution_count": null,
   "metadata": {},
   "outputs": [],
   "source": []
  }
 ],
 "metadata": {
  "kernelspec": {
   "display_name": "Python 3",
   "language": "python",
   "name": "python3"
  },
  "language_info": {
   "codemirror_mode": {
    "name": "ipython",
    "version": 3
   },
   "file_extension": ".py",
   "mimetype": "text/x-python",
   "name": "python",
   "nbconvert_exporter": "python",
   "pygments_lexer": "ipython3",
   "version": "3.8.3"
  }
 },
 "nbformat": 4,
 "nbformat_minor": 4
}
